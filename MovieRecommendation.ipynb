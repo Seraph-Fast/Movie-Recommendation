{
 "cells": [
  {
   "cell_type": "code",
   "execution_count": 1,
   "id": "574cb5d4",
   "metadata": {},
   "outputs": [],
   "source": [
    "#Libraries\n",
    "import pandas as pd\n",
    "import numpy as np\n"
   ]
  },
  {
   "cell_type": "code",
   "execution_count": 2,
   "id": "4aa766ec",
   "metadata": {},
   "outputs": [],
   "source": [
    "#Dataset\n",
    "movies=pd.read_csv(r'C:\\Users\\sarim\\OneDrive\\Desktop\\Project\\Machine Learning\\Datasets\\smaller\\movies.csv', usecols=['movieId','title','genres'], dtype={'movieId':'int32','title':'str','genre':'str'})\n",
    "ratings=pd.read_csv(r'C:\\Users\\sarim\\OneDrive\\Desktop\\Project\\Machine Learning\\Datasets\\smaller\\ratings.csv',usecols=['userId', 'movieId', 'rating'],dtype={'userId': 'int32', 'movieId': 'int32', 'rating': 'float32'})"
   ]
  },
  {
   "cell_type": "code",
   "execution_count": 3,
   "id": "4993e04d",
   "metadata": {},
   "outputs": [
    {
     "name": "stdout",
     "output_type": "stream",
     "text": [
      "(9742, 3)\n",
      "(100836, 3)\n",
      "\n",
      " movieId    0\n",
      "title      0\n",
      "genres     0\n",
      "dtype: int64\n",
      "\n",
      " userId     0\n",
      "movieId    0\n",
      "rating     0\n",
      "dtype: int64\n"
     ]
    }
   ],
   "source": [
    "print(movies.shape)\n",
    "print(ratings.shape)\n",
    "print('\\n',movies.isnull().sum())\n",
    "print('\\n',ratings.isnull().sum())\n",
    "#movies.info()\n",
    "#ratings.info()"
   ]
  },
  {
   "cell_type": "code",
   "execution_count": 4,
   "id": "918de92d",
   "metadata": {},
   "outputs": [],
   "source": [
    "#Cleaning\n",
    "\n",
    "\n",
    "#Shrinking dataset for our system\n",
    "\n",
    "smallmovie = movies[0:1000]\n",
    "movieid = list(smallmovie[\"movieId\"])\n",
    "\n",
    "smallrating=ratings[(ratings[\"movieId\"].isin(movieid))]\n",
    "\n",
    "\n",
    "movies = smallmovie\n",
    "ratings = smallrating"
   ]
  },
  {
   "cell_type": "code",
   "execution_count": 5,
   "id": "34eb248f",
   "metadata": {},
   "outputs": [
    {
     "name": "stdout",
     "output_type": "stream",
     "text": [
      "(1000, 3)\n",
      "(29633, 3)\n",
      "\n",
      " movieId    0\n",
      "title      0\n",
      "genres     0\n",
      "dtype: int64\n",
      "\n",
      " userId     0\n",
      "movieId    0\n",
      "rating     0\n",
      "dtype: int64\n"
     ]
    }
   ],
   "source": [
    "print(movies.shape)\n",
    "print(ratings.shape)\n",
    "print('\\n',movies.isnull().sum())\n",
    "print('\\n',ratings.isnull().sum())\n",
    "#movies.info()\n",
    "#ratings.info()"
   ]
  },
  {
   "cell_type": "code",
   "execution_count": 6,
   "id": "e0ab0ddb",
   "metadata": {},
   "outputs": [],
   "source": [
    "#to insert url of movies to the database\n",
    "\n",
    "import os, requests, lxml, re, json, urllib.request\n",
    "from bs4 import BeautifulSoup\n",
    "from serpapi import GoogleSearch\n",
    "\n",
    "def get_image_url(name):\n",
    "    global headers,params,html,soup\n",
    "    headers = {\n",
    "        \"User-Agent\": \"Mozilla/5.0 (Windows NT 10.0; Win64; x64) AppleWebKit/537.36 (KHTML, like Gecko) Chrome/103.0.5060.114 Safari/537.36\"\n",
    "    }\n",
    "\n",
    "    params = {\n",
    "        \"q\": name, # search query\n",
    "        \"tbm\": \"isch\",                # image results\n",
    "        \"hl\": \"en\",                   # language of the search\n",
    "        \"gl\": \"us\",                   # country where search comes from\n",
    "        \"ijn\": \"0\"                    # page number\n",
    "    }\n",
    "\n",
    "    html = requests.get(\"https://www.google.com/search\", params=params, headers=headers, timeout=30)\n",
    "    soup = BeautifulSoup(html.text, \"lxml\")\n",
    "    return get_original_images()[1]\n",
    "    \n",
    "\n",
    "def get_images_with_request_headers():\n",
    "    del params[\"ijn\"]\n",
    "    params[\"content-type\"] = \"image/png\" # parameter that indicate the original media type\n",
    "\n",
    "    return [img[\"src\"] for img in soup.select(\"img\")]\n",
    "\n",
    "def get_suggested_search_data():\n",
    "    suggested_searches = []\n",
    "\n",
    "    all_script_tags = soup.select(\"script\")\n",
    "    matched_images = \"\".join(re.findall(r\"AF_initDataCallback\\(({key: 'ds:1'.*?)\\);</script>\", str(all_script_tags)))\n",
    "    matched_images_data_fix = json.dumps(matched_images)\n",
    "    matched_images_data_json = json.loads(matched_images_data_fix)\n",
    "    suggested_search_thumbnails = \",\".join(re.findall(r'{key(.*?)\\[null,\\\"Size\\\"', matched_images_data_json))\n",
    "    suggested_search_thumbnail_encoded = re.findall(r'\\\"(https:\\/\\/encrypted.*?)\\\"', suggested_search_thumbnails)\n",
    "\n",
    "    for suggested_search, suggested_search_fixed_thumbnail in zip(soup.select(\".PKhmud.sc-it.tzVsfd\"), suggested_search_thumbnail_encoded):\n",
    "        suggested_searches.append({\n",
    "            \"name\": suggested_search.select_one(\".VlHyHc\").text,\n",
    "            \"link\": f\"https://www.google.com{suggested_search.a['href']}\",\n",
    "            \"chips\": \"\".join(re.findall(r\"&chips=(.*?)&\", suggested_search.a[\"href\"])),\n",
    "            \"thumbnail\": bytes(suggested_search_fixed_thumbnail, \"ascii\").decode(\"unicode-escape\")\n",
    "        })\n",
    "\n",
    "    return suggested_searches\n",
    "\n",
    "def get_original_images():\n",
    "\n",
    "    \"\"\"\n",
    "    https://kodlogs.com/34776/json-decoder-jsondecodeerror-expecting-property-name-enclosed-in-double-quotes\n",
    "    if you try to json.loads() without json.dumps() it will throw an error:\n",
    "    \"Expecting property name enclosed in double quotes\"\n",
    "    \"\"\"\n",
    "\n",
    "    google_images = []\n",
    "\n",
    "    all_script_tags = soup.select(\"script\")\n",
    "\n",
    "    # # https://regex101.com/r/48UZhY/4\n",
    "    matched_images_data = \"\".join(re.findall(r\"AF_initDataCallback\\(([^<]+)\\);\", str(all_script_tags)))\n",
    "    \n",
    "    matched_images_data_fix = json.dumps(matched_images_data)\n",
    "    matched_images_data_json = json.loads(matched_images_data_fix)\n",
    "\n",
    "    # https://regex101.com/r/VPz7f2/1\n",
    "    matched_google_image_data = re.findall(r'\\\"b-GRID_STATE0\\\"(.*)sideChannel:\\s?{}}', matched_images_data_json)\n",
    "\n",
    "    # https://regex101.com/r/NnRg27/1\n",
    "    matched_google_images_thumbnails = \", \".join(\n",
    "        re.findall(r'\\[\\\"(https\\:\\/\\/encrypted-tbn0\\.gstatic\\.com\\/images\\?.*?)\\\",\\d+,\\d+\\]',\n",
    "                   str(matched_google_image_data))).split(\", \")\n",
    "\n",
    "    thumbnails = [\n",
    "        bytes(bytes(thumbnail, \"ascii\").decode(\"unicode-escape\"), \"ascii\").decode(\"unicode-escape\") for thumbnail in matched_google_images_thumbnails\n",
    "    ]\n",
    "\n",
    "    # removing previously matched thumbnails for easier full resolution image matches.\n",
    "    removed_matched_google_images_thumbnails = re.sub(\n",
    "        r'\\[\\\"(https\\:\\/\\/encrypted-tbn0\\.gstatic\\.com\\/images\\?.*?)\\\",\\d+,\\d+\\]', \"\", str(matched_google_image_data))\n",
    "\n",
    "    # https://regex101.com/r/fXjfb1/4\n",
    "    # https://stackoverflow.com/a/19821774/15164646\n",
    "    matched_google_full_resolution_images = re.findall(r\"(?:'|,),\\[\\\"(https:|http.*?)\\\",\\d+,\\d+\\]\", removed_matched_google_images_thumbnails)\n",
    "\n",
    "    full_res_images = [\n",
    "        bytes(bytes(img, \"ascii\").decode(\"unicode-escape\"), \"ascii\").decode(\"unicode-escape\") for img in matched_google_full_resolution_images\n",
    "    ]\n",
    "    \n",
    "    for index, (metadata, thumbnail, original) in enumerate(zip(soup.select('.isv-r.PNCib.MSM1fd.BUooTd'), thumbnails, full_res_images), start=1):\n",
    "        google_images.append({\n",
    "            \"title\": metadata.select_one(\".VFACy.kGQAp.sMi44c.lNHeqe.WGvvNb\")[\"title\"],\n",
    "            \"link\": metadata.select_one(\".VFACy.kGQAp.sMi44c.lNHeqe.WGvvNb\")[\"href\"],\n",
    "            \"source\": metadata.select_one(\".fxgdke\").text,\n",
    "            \"thumbnail\": thumbnail,\n",
    "            \"original\": original\n",
    "        })\n",
    "\n",
    "        #print(original, f'Bs4_Images/original_size_img_{index}.jpg')\n",
    "\n",
    "    return google_images\n"
   ]
  },
  {
   "cell_type": "code",
   "execution_count": 8,
   "id": "38012e2b",
   "metadata": {},
   "outputs": [
    {
     "data": {
      "text/html": [
       "<div>\n",
       "<style scoped>\n",
       "    .dataframe tbody tr th:only-of-type {\n",
       "        vertical-align: middle;\n",
       "    }\n",
       "\n",
       "    .dataframe tbody tr th {\n",
       "        vertical-align: top;\n",
       "    }\n",
       "\n",
       "    .dataframe thead th {\n",
       "        text-align: right;\n",
       "    }\n",
       "</style>\n",
       "<table border=\"1\" class=\"dataframe\">\n",
       "  <thead>\n",
       "    <tr style=\"text-align: right;\">\n",
       "      <th></th>\n",
       "      <th>movieId</th>\n",
       "      <th>title</th>\n",
       "      <th>genres</th>\n",
       "      <th>url</th>\n",
       "    </tr>\n",
       "  </thead>\n",
       "  <tbody>\n",
       "    <tr>\n",
       "      <th>0</th>\n",
       "      <td>1</td>\n",
       "      <td>Toy Story (1995)</td>\n",
       "      <td>Adventure|Animation|Children|Comedy|Fantasy</td>\n",
       "      <td>movieurl</td>\n",
       "    </tr>\n",
       "    <tr>\n",
       "      <th>1</th>\n",
       "      <td>2</td>\n",
       "      <td>Jumanji (1995)</td>\n",
       "      <td>Adventure|Children|Fantasy</td>\n",
       "      <td>movieurl</td>\n",
       "    </tr>\n",
       "    <tr>\n",
       "      <th>2</th>\n",
       "      <td>3</td>\n",
       "      <td>Grumpier Old Men (1995)</td>\n",
       "      <td>Comedy|Romance</td>\n",
       "      <td>movieurl</td>\n",
       "    </tr>\n",
       "    <tr>\n",
       "      <th>3</th>\n",
       "      <td>4</td>\n",
       "      <td>Waiting to Exhale (1995)</td>\n",
       "      <td>Comedy|Drama|Romance</td>\n",
       "      <td>movieurl</td>\n",
       "    </tr>\n",
       "    <tr>\n",
       "      <th>4</th>\n",
       "      <td>5</td>\n",
       "      <td>Father of the Bride Part II (1995)</td>\n",
       "      <td>Comedy</td>\n",
       "      <td>movieurl</td>\n",
       "    </tr>\n",
       "    <tr>\n",
       "      <th>...</th>\n",
       "      <td>...</td>\n",
       "      <td>...</td>\n",
       "      <td>...</td>\n",
       "      <td>...</td>\n",
       "    </tr>\n",
       "    <tr>\n",
       "      <th>995</th>\n",
       "      <td>1297</td>\n",
       "      <td>Real Genius (1985)</td>\n",
       "      <td>Comedy</td>\n",
       "      <td>movieurl</td>\n",
       "    </tr>\n",
       "    <tr>\n",
       "      <th>996</th>\n",
       "      <td>1298</td>\n",
       "      <td>Pink Floyd: The Wall (1982)</td>\n",
       "      <td>Drama|Musical</td>\n",
       "      <td>movieurl</td>\n",
       "    </tr>\n",
       "    <tr>\n",
       "      <th>997</th>\n",
       "      <td>1299</td>\n",
       "      <td>Killing Fields, The (1984)</td>\n",
       "      <td>Drama|War</td>\n",
       "      <td>movieurl</td>\n",
       "    </tr>\n",
       "    <tr>\n",
       "      <th>998</th>\n",
       "      <td>1300</td>\n",
       "      <td>My Life as a Dog (Mitt liv som hund) (1985)</td>\n",
       "      <td>Comedy|Drama</td>\n",
       "      <td>movieurl</td>\n",
       "    </tr>\n",
       "    <tr>\n",
       "      <th>999</th>\n",
       "      <td>1301</td>\n",
       "      <td>Forbidden Planet (1956)</td>\n",
       "      <td>Drama|Sci-Fi</td>\n",
       "      <td>movieurl</td>\n",
       "    </tr>\n",
       "  </tbody>\n",
       "</table>\n",
       "<p>1000 rows × 4 columns</p>\n",
       "</div>"
      ],
      "text/plain": [
       "     movieId                                        title  \\\n",
       "0          1                             Toy Story (1995)   \n",
       "1          2                               Jumanji (1995)   \n",
       "2          3                      Grumpier Old Men (1995)   \n",
       "3          4                     Waiting to Exhale (1995)   \n",
       "4          5           Father of the Bride Part II (1995)   \n",
       "..       ...                                          ...   \n",
       "995     1297                           Real Genius (1985)   \n",
       "996     1298                  Pink Floyd: The Wall (1982)   \n",
       "997     1299                   Killing Fields, The (1984)   \n",
       "998     1300  My Life as a Dog (Mitt liv som hund) (1985)   \n",
       "999     1301                      Forbidden Planet (1956)   \n",
       "\n",
       "                                          genres       url  \n",
       "0    Adventure|Animation|Children|Comedy|Fantasy  movieurl  \n",
       "1                     Adventure|Children|Fantasy  movieurl  \n",
       "2                                 Comedy|Romance  movieurl  \n",
       "3                           Comedy|Drama|Romance  movieurl  \n",
       "4                                         Comedy  movieurl  \n",
       "..                                           ...       ...  \n",
       "995                                       Comedy  movieurl  \n",
       "996                                Drama|Musical  movieurl  \n",
       "997                                    Drama|War  movieurl  \n",
       "998                                 Comedy|Drama  movieurl  \n",
       "999                                 Drama|Sci-Fi  movieurl  \n",
       "\n",
       "[1000 rows x 4 columns]"
      ]
     },
     "execution_count": 8,
     "metadata": {},
     "output_type": "execute_result"
    }
   ],
   "source": [
    "movies[\"url\"] = \"movieurl\"\n",
    "movies"
   ]
  },
  {
   "cell_type": "code",
   "execution_count": 9,
   "id": "3577ae87",
   "metadata": {},
   "outputs": [
    {
     "name": "stderr",
     "output_type": "stream",
     "text": [
      "C:\\Users\\sarim\\AppData\\Local\\Temp\\ipykernel_15488\\3570067281.py:3: SettingWithCopyWarning: \n",
      "A value is trying to be set on a copy of a slice from a DataFrame\n",
      "\n",
      "See the caveats in the documentation: https://pandas.pydata.org/pandas-docs/stable/user_guide/indexing.html#returning-a-view-versus-a-copy\n",
      "  movies[\"url\"][index]=get_image_url(movies[\"title\"][index])[\"original\"]\n"
     ]
    },
    {
     "name": "stdout",
     "output_type": "stream",
     "text": [
      "Lamerica (1994)\n",
      "Down Periscope (1996)\n",
      "Congo (1995)\n",
      "Before the Rain (Pred dozhdot) (1994)\n",
      "Castle Freak (1995)\n",
      "Goofy Movie, A (1995)\n",
      "Thirty-Two Short Films About Glenn Gould (1993)\n",
      "Time to Kill, A (1996)\n"
     ]
    }
   ],
   "source": [
    "for index in range(0,len(movies[\"title\"])):\n",
    "    try:\n",
    "        movies[\"url\"][index]=get_image_url(movies[\"title\"][index])[\"original\"]\n",
    "    except:\n",
    "        print(movies[\"title\"][index])"
   ]
  },
  {
   "cell_type": "code",
   "execution_count": 14,
   "id": "c873fac7",
   "metadata": {},
   "outputs": [],
   "source": [
    "#excluding bugged movies\n",
    "nourlmovie = [\"Lamerica (1994)\",\n",
    "\"Down Periscope (1996)\",\n",
    "\"Congo (1995)\",\n",
    "\"Before the Rain (Pred dozhdot) (1994)\",\n",
    "\"Castle Freak (1995)\",\n",
    "\"Goofy Movie, A (1995)\",\n",
    "\"Thirty-Two Short Films About Glenn Gould (1993)\",\n",
    "\"Time to Kill, A (1996)\"]\n",
    "\n",
    "movies = movies[(~movies[\"title\"].isin(nourlmovie))]\n",
    "\n",
    "movieid = list(smallmovie[\"movieId\"])\n",
    "\n",
    "ratings=ratings[(ratings[\"movieId\"].isin(movieid))]\n"
   ]
  },
  {
   "cell_type": "code",
   "execution_count": 15,
   "id": "ea53f5cd",
   "metadata": {},
   "outputs": [
    {
     "data": {
      "text/html": [
       "<div>\n",
       "<style scoped>\n",
       "    .dataframe tbody tr th:only-of-type {\n",
       "        vertical-align: middle;\n",
       "    }\n",
       "\n",
       "    .dataframe tbody tr th {\n",
       "        vertical-align: top;\n",
       "    }\n",
       "\n",
       "    .dataframe thead th {\n",
       "        text-align: right;\n",
       "    }\n",
       "</style>\n",
       "<table border=\"1\" class=\"dataframe\">\n",
       "  <thead>\n",
       "    <tr style=\"text-align: right;\">\n",
       "      <th></th>\n",
       "      <th>movieId</th>\n",
       "      <th>title</th>\n",
       "      <th>genres</th>\n",
       "      <th>url</th>\n",
       "      <th>userId</th>\n",
       "      <th>rating</th>\n",
       "    </tr>\n",
       "  </thead>\n",
       "  <tbody>\n",
       "    <tr>\n",
       "      <th>0</th>\n",
       "      <td>1</td>\n",
       "      <td>Toy Story (1995)</td>\n",
       "      <td>Adventure|Animation|Children|Comedy|Fantasy</td>\n",
       "      <td>https://i.ytimg.com/vi/tN1A2mVnrOM/maxresdefau...</td>\n",
       "      <td>1</td>\n",
       "      <td>4.0</td>\n",
       "    </tr>\n",
       "    <tr>\n",
       "      <th>1</th>\n",
       "      <td>1</td>\n",
       "      <td>Toy Story (1995)</td>\n",
       "      <td>Adventure|Animation|Children|Comedy|Fantasy</td>\n",
       "      <td>https://i.ytimg.com/vi/tN1A2mVnrOM/maxresdefau...</td>\n",
       "      <td>5</td>\n",
       "      <td>4.0</td>\n",
       "    </tr>\n",
       "    <tr>\n",
       "      <th>2</th>\n",
       "      <td>1</td>\n",
       "      <td>Toy Story (1995)</td>\n",
       "      <td>Adventure|Animation|Children|Comedy|Fantasy</td>\n",
       "      <td>https://i.ytimg.com/vi/tN1A2mVnrOM/maxresdefau...</td>\n",
       "      <td>7</td>\n",
       "      <td>4.5</td>\n",
       "    </tr>\n",
       "    <tr>\n",
       "      <th>3</th>\n",
       "      <td>1</td>\n",
       "      <td>Toy Story (1995)</td>\n",
       "      <td>Adventure|Animation|Children|Comedy|Fantasy</td>\n",
       "      <td>https://i.ytimg.com/vi/tN1A2mVnrOM/maxresdefau...</td>\n",
       "      <td>15</td>\n",
       "      <td>2.5</td>\n",
       "    </tr>\n",
       "    <tr>\n",
       "      <th>4</th>\n",
       "      <td>1</td>\n",
       "      <td>Toy Story (1995)</td>\n",
       "      <td>Adventure|Animation|Children|Comedy|Fantasy</td>\n",
       "      <td>https://i.ytimg.com/vi/tN1A2mVnrOM/maxresdefau...</td>\n",
       "      <td>17</td>\n",
       "      <td>4.5</td>\n",
       "    </tr>\n",
       "  </tbody>\n",
       "</table>\n",
       "</div>"
      ],
      "text/plain": [
       "   movieId             title                                       genres  \\\n",
       "0        1  Toy Story (1995)  Adventure|Animation|Children|Comedy|Fantasy   \n",
       "1        1  Toy Story (1995)  Adventure|Animation|Children|Comedy|Fantasy   \n",
       "2        1  Toy Story (1995)  Adventure|Animation|Children|Comedy|Fantasy   \n",
       "3        1  Toy Story (1995)  Adventure|Animation|Children|Comedy|Fantasy   \n",
       "4        1  Toy Story (1995)  Adventure|Animation|Children|Comedy|Fantasy   \n",
       "\n",
       "                                                 url  userId  rating  \n",
       "0  https://i.ytimg.com/vi/tN1A2mVnrOM/maxresdefau...       1     4.0  \n",
       "1  https://i.ytimg.com/vi/tN1A2mVnrOM/maxresdefau...       5     4.0  \n",
       "2  https://i.ytimg.com/vi/tN1A2mVnrOM/maxresdefau...       7     4.5  \n",
       "3  https://i.ytimg.com/vi/tN1A2mVnrOM/maxresdefau...      15     2.5  \n",
       "4  https://i.ytimg.com/vi/tN1A2mVnrOM/maxresdefau...      17     4.5  "
      ]
     },
     "execution_count": 15,
     "metadata": {},
     "output_type": "execute_result"
    }
   ],
   "source": [
    "finaldata = movies.merge(ratings, on='movieId')\n",
    "finaldata.head()"
   ]
  },
  {
   "cell_type": "code",
   "execution_count": 16,
   "id": "22e099ed",
   "metadata": {},
   "outputs": [
    {
     "data": {
      "text/html": [
       "<div>\n",
       "<style scoped>\n",
       "    .dataframe tbody tr th:only-of-type {\n",
       "        vertical-align: middle;\n",
       "    }\n",
       "\n",
       "    .dataframe tbody tr th {\n",
       "        vertical-align: top;\n",
       "    }\n",
       "\n",
       "    .dataframe thead th {\n",
       "        text-align: right;\n",
       "    }\n",
       "</style>\n",
       "<table border=\"1\" class=\"dataframe\">\n",
       "  <thead>\n",
       "    <tr style=\"text-align: right;\">\n",
       "      <th></th>\n",
       "      <th>title</th>\n",
       "      <th>Average Rating</th>\n",
       "    </tr>\n",
       "  </thead>\n",
       "  <tbody>\n",
       "    <tr>\n",
       "      <th>0</th>\n",
       "      <td>Awfully Big Adventure, An (1995)</td>\n",
       "      <td>5.0</td>\n",
       "    </tr>\n",
       "    <tr>\n",
       "      <th>1</th>\n",
       "      <td>Lesson Faust (1994)</td>\n",
       "      <td>5.0</td>\n",
       "    </tr>\n",
       "    <tr>\n",
       "      <th>2</th>\n",
       "      <td>Heidi Fleiss: Hollywood Madam (1995)</td>\n",
       "      <td>5.0</td>\n",
       "    </tr>\n",
       "    <tr>\n",
       "      <th>3</th>\n",
       "      <td>Supercop 2 (Project S) (Chao ji ji hua) (1993)</td>\n",
       "      <td>5.0</td>\n",
       "    </tr>\n",
       "    <tr>\n",
       "      <th>4</th>\n",
       "      <td>In the Realm of the Senses (Ai no corrida) (1976)</td>\n",
       "      <td>5.0</td>\n",
       "    </tr>\n",
       "  </tbody>\n",
       "</table>\n",
       "</div>"
      ],
      "text/plain": [
       "                                               title  Average Rating\n",
       "0                   Awfully Big Adventure, An (1995)             5.0\n",
       "1                                Lesson Faust (1994)             5.0\n",
       "2               Heidi Fleiss: Hollywood Madam (1995)             5.0\n",
       "3     Supercop 2 (Project S) (Chao ji ji hua) (1993)             5.0\n",
       "4  In the Realm of the Senses (Ai no corrida) (1976)             5.0"
      ]
     },
     "execution_count": 16,
     "metadata": {},
     "output_type": "execute_result"
    }
   ],
   "source": [
    "movies_average_rating=finaldata.groupby('title')['rating'].mean().sort_values(ascending=False).reset_index().rename(columns={'rating':'Average Rating'})\n",
    "movies_average_rating.head()"
   ]
  },
  {
   "cell_type": "code",
   "execution_count": 18,
   "id": "affb8937",
   "metadata": {},
   "outputs": [
    {
     "data": {
      "text/html": [
       "<div>\n",
       "<style scoped>\n",
       "    .dataframe tbody tr th:only-of-type {\n",
       "        vertical-align: middle;\n",
       "    }\n",
       "\n",
       "    .dataframe tbody tr th {\n",
       "        vertical-align: top;\n",
       "    }\n",
       "\n",
       "    .dataframe thead th {\n",
       "        text-align: right;\n",
       "    }\n",
       "</style>\n",
       "<table border=\"1\" class=\"dataframe\">\n",
       "  <thead>\n",
       "    <tr style=\"text-align: right;\">\n",
       "      <th></th>\n",
       "      <th>title</th>\n",
       "      <th>Rating Count</th>\n",
       "      <th>Average Rating</th>\n",
       "    </tr>\n",
       "  </thead>\n",
       "  <tbody>\n",
       "    <tr>\n",
       "      <th>0</th>\n",
       "      <td>Young Poisoner's Handbook, The (1995)</td>\n",
       "      <td>1</td>\n",
       "      <td>3.0</td>\n",
       "    </tr>\n",
       "    <tr>\n",
       "      <th>1</th>\n",
       "      <td>In the Realm of the Senses (Ai no corrida) (1976)</td>\n",
       "      <td>1</td>\n",
       "      <td>5.0</td>\n",
       "    </tr>\n",
       "    <tr>\n",
       "      <th>2</th>\n",
       "      <td>Infinity (1996)</td>\n",
       "      <td>1</td>\n",
       "      <td>3.0</td>\n",
       "    </tr>\n",
       "    <tr>\n",
       "      <th>3</th>\n",
       "      <td>Bliss (1997)</td>\n",
       "      <td>1</td>\n",
       "      <td>3.0</td>\n",
       "    </tr>\n",
       "    <tr>\n",
       "      <th>4</th>\n",
       "      <td>Inkwell, The (1994)</td>\n",
       "      <td>1</td>\n",
       "      <td>1.0</td>\n",
       "    </tr>\n",
       "  </tbody>\n",
       "</table>\n",
       "</div>"
      ],
      "text/plain": [
       "                                               title  Rating Count  \\\n",
       "0              Young Poisoner's Handbook, The (1995)             1   \n",
       "1  In the Realm of the Senses (Ai no corrida) (1976)             1   \n",
       "2                                    Infinity (1996)             1   \n",
       "3                                       Bliss (1997)             1   \n",
       "4                                Inkwell, The (1994)             1   \n",
       "\n",
       "   Average Rating  \n",
       "0             3.0  \n",
       "1             5.0  \n",
       "2             3.0  \n",
       "3             3.0  \n",
       "4             1.0  "
      ]
     },
     "execution_count": 18,
     "metadata": {},
     "output_type": "execute_result"
    }
   ],
   "source": [
    "movies_rating_count=finaldata.groupby('title')['rating'].count().sort_values(ascending=True).reset_index().rename(columns={'rating':'Rating Count'}) #ascending=False\n",
    "movies_rating_count_avg=movies_rating_count.merge(movies_average_rating, on='title')\n",
    "movies_rating_count_avg.head()"
   ]
  },
  {
   "cell_type": "code",
   "execution_count": 19,
   "id": "4dc0ff14",
   "metadata": {},
   "outputs": [
    {
     "data": {
      "image/png": "[encoded data removed]",
      "text/plain": [
       "<Figure size 864x288 with 1 Axes>"
      ]
     },
     "metadata": {
      "needs_background": "dark"
     },
     "output_type": "display_data"
    }
   ],
   "source": [
    "#DataVisualization\n",
    "\n",
    "import seaborn as sns\n",
    "import matplotlib.pyplot as plt\n",
    "sns.set(font_scale = 1)\n",
    "plt.rcParams[\"axes.grid\"] = False\n",
    "plt.style.use('dark_background')\n",
    "%matplotlib inline\n",
    "\n",
    "plt.figure(figsize=(12,4))\n",
    "plt.hist(movies_rating_count_avg['Rating Count'],bins=80,color='tab:purple')\n",
    "plt.ylabel('Ratings Count(Scaled)', fontsize=16)\n",
    "plt.show()"
   ]
  },
  {
   "cell_type": "code",
   "execution_count": 20,
   "id": "e33148b3",
   "metadata": {},
   "outputs": [
    {
     "data": {
      "image/png": "[encoded data removed]",
      "text/plain": [
       "<Figure size 864x288 with 1 Axes>"
      ]
     },
     "metadata": {
      "needs_background": "dark"
     },
     "output_type": "display_data"
    }
   ],
   "source": [
    "plt.figure(figsize=(12,4))\n",
    "plt.hist(movies_rating_count_avg['Average Rating'],bins=80,color='tab:purple')\n",
    "plt.ylabel('Average Rating',fontsize=16)\n",
    "plt.show()"
   ]
  },
  {
   "cell_type": "code",
   "execution_count": 22,
   "id": "b26349d4",
   "metadata": {},
   "outputs": [
    {
     "data": {
      "text/plain": [
       "<seaborn.axisgrid.JointGrid at 0x1a075e1e7f0>"
      ]
     },
     "execution_count": 22,
     "metadata": {},
     "output_type": "execute_result"
    },
    {
     "data": {
      "image/png": "[encoded data removed]",
      "text/plain": [
       "<Figure size 432x432 with 3 Axes>"
      ]
     },
     "metadata": {
      "needs_background": "dark"
     },
     "output_type": "display_data"
    }
   ],
   "source": [
    "plot=sns.jointplot(x='Average Rating',y='Rating Count',data=movies_rating_count_avg,alpha=0.5, color='tab:pink')\n",
    "plot"
   ]
  },
  {
   "cell_type": "code",
   "execution_count": 24,
   "id": "61e79336",
   "metadata": {},
   "outputs": [
    {
     "data": {
      "text/html": [
       "<div>\n",
       "<style scoped>\n",
       "    .dataframe tbody tr th:only-of-type {\n",
       "        vertical-align: middle;\n",
       "    }\n",
       "\n",
       "    .dataframe tbody tr th {\n",
       "        vertical-align: top;\n",
       "    }\n",
       "\n",
       "    .dataframe thead th {\n",
       "        text-align: right;\n",
       "    }\n",
       "</style>\n",
       "<table border=\"1\" class=\"dataframe\">\n",
       "  <thead>\n",
       "    <tr style=\"text-align: right;\">\n",
       "      <th></th>\n",
       "      <th>movieId</th>\n",
       "      <th>title</th>\n",
       "      <th>genres</th>\n",
       "      <th>url</th>\n",
       "      <th>userId</th>\n",
       "      <th>rating</th>\n",
       "      <th>Rating Count</th>\n",
       "    </tr>\n",
       "  </thead>\n",
       "  <tbody>\n",
       "    <tr>\n",
       "      <th>0</th>\n",
       "      <td>1</td>\n",
       "      <td>Toy Story (1995)</td>\n",
       "      <td>Adventure|Animation|Children|Comedy|Fantasy</td>\n",
       "      <td>https://i.ytimg.com/vi/tN1A2mVnrOM/maxresdefau...</td>\n",
       "      <td>1</td>\n",
       "      <td>4.0</td>\n",
       "      <td>215</td>\n",
       "    </tr>\n",
       "    <tr>\n",
       "      <th>1</th>\n",
       "      <td>1</td>\n",
       "      <td>Toy Story (1995)</td>\n",
       "      <td>Adventure|Animation|Children|Comedy|Fantasy</td>\n",
       "      <td>https://i.ytimg.com/vi/tN1A2mVnrOM/maxresdefau...</td>\n",
       "      <td>5</td>\n",
       "      <td>4.0</td>\n",
       "      <td>215</td>\n",
       "    </tr>\n",
       "    <tr>\n",
       "      <th>2</th>\n",
       "      <td>1</td>\n",
       "      <td>Toy Story (1995)</td>\n",
       "      <td>Adventure|Animation|Children|Comedy|Fantasy</td>\n",
       "      <td>https://i.ytimg.com/vi/tN1A2mVnrOM/maxresdefau...</td>\n",
       "      <td>7</td>\n",
       "      <td>4.5</td>\n",
       "      <td>215</td>\n",
       "    </tr>\n",
       "    <tr>\n",
       "      <th>3</th>\n",
       "      <td>1</td>\n",
       "      <td>Toy Story (1995)</td>\n",
       "      <td>Adventure|Animation|Children|Comedy|Fantasy</td>\n",
       "      <td>https://i.ytimg.com/vi/tN1A2mVnrOM/maxresdefau...</td>\n",
       "      <td>15</td>\n",
       "      <td>2.5</td>\n",
       "      <td>215</td>\n",
       "    </tr>\n",
       "    <tr>\n",
       "      <th>4</th>\n",
       "      <td>1</td>\n",
       "      <td>Toy Story (1995)</td>\n",
       "      <td>Adventure|Animation|Children|Comedy|Fantasy</td>\n",
       "      <td>https://i.ytimg.com/vi/tN1A2mVnrOM/maxresdefau...</td>\n",
       "      <td>17</td>\n",
       "      <td>4.5</td>\n",
       "      <td>215</td>\n",
       "    </tr>\n",
       "  </tbody>\n",
       "</table>\n",
       "</div>"
      ],
      "text/plain": [
       "   movieId             title                                       genres  \\\n",
       "0        1  Toy Story (1995)  Adventure|Animation|Children|Comedy|Fantasy   \n",
       "1        1  Toy Story (1995)  Adventure|Animation|Children|Comedy|Fantasy   \n",
       "2        1  Toy Story (1995)  Adventure|Animation|Children|Comedy|Fantasy   \n",
       "3        1  Toy Story (1995)  Adventure|Animation|Children|Comedy|Fantasy   \n",
       "4        1  Toy Story (1995)  Adventure|Animation|Children|Comedy|Fantasy   \n",
       "\n",
       "                                                 url  userId  rating  \\\n",
       "0  https://i.ytimg.com/vi/tN1A2mVnrOM/maxresdefau...       1     4.0   \n",
       "1  https://i.ytimg.com/vi/tN1A2mVnrOM/maxresdefau...       5     4.0   \n",
       "2  https://i.ytimg.com/vi/tN1A2mVnrOM/maxresdefau...       7     4.5   \n",
       "3  https://i.ytimg.com/vi/tN1A2mVnrOM/maxresdefau...      15     2.5   \n",
       "4  https://i.ytimg.com/vi/tN1A2mVnrOM/maxresdefau...      17     4.5   \n",
       "\n",
       "   Rating Count  \n",
       "0           215  \n",
       "1           215  \n",
       "2           215  \n",
       "3           215  \n",
       "4           215  "
      ]
     },
     "execution_count": 24,
     "metadata": {},
     "output_type": "execute_result"
    }
   ],
   "source": [
    "#Cleaning\n",
    "\n",
    "rating_with_RatingCount = finaldata.merge(movies_rating_count, left_on = 'title', right_on = 'title', how = 'left')\n",
    "rating_with_RatingCount.head()"
   ]
  },
  {
   "cell_type": "code",
   "execution_count": 33,
   "id": "38c3943f",
   "metadata": {},
   "outputs": [
    {
     "data": {
      "text/plain": [
       "(28945, 7)"
      ]
     },
     "execution_count": 33,
     "metadata": {},
     "output_type": "execute_result"
    }
   ],
   "source": [
    "popularity_threshold = 5\n",
    "popular_movies= rating_with_RatingCount[rating_with_RatingCount['Rating Count']>=popularity_threshold]\n",
    "popular_movies.head()\n",
    "popular_movies.shape"
   ]
  },
  {
   "cell_type": "code",
   "execution_count": 89,
   "id": "0c68fefc",
   "metadata": {},
   "outputs": [
    {
     "name": "stdout",
     "output_type": "stream",
     "text": [
      "440\n",
      "Recommendations for Mr. Holland's Opus (1995):\n",
      "\n",
      "1: Dave (1993)\n",
      "2: American President, The (1995)\n",
      "3: Twister (1996)\n"
     ]
    }
   ],
   "source": [
    "#KNN implementation\n",
    "from scipy.sparse import csr_matrix\n",
    "movie_features_df=popular_movies.pivot_table(index='title',columns='userId',values='rating').fillna(0)\n",
    "movie_features_df_matrix = csr_matrix(movie_features_df.values)\n",
    "\n",
    "from sklearn.neighbors import NearestNeighbors\n",
    "model_knn = NearestNeighbors(metric = 'cosine')\n",
    "model_knn.fit(movie_features_df_matrix)\n",
    "\n",
    "query_index = np.random.choice(movie_features_df.shape[0])\n",
    "print(query_index)\n",
    "distances, indices = model_knn.kneighbors(movie_features_df.iloc[query_index,:].values.reshape(1, -1), n_neighbors = 4)\n",
    "\n",
    "for i in range(0, len(distances.flatten())):\n",
    "    if i == 0:\n",
    "        print('Recommendations for {0}:\\n'.format(movie_features_df.index[query_index]))\n",
    "    else:\n",
    "        print('{0}: {1}'.format(i, movie_features_df.index[indices.flatten()[i]]))"
   ]
  },
  {
   "cell_type": "code",
   "execution_count": 55,
   "id": "fedc8374",
   "metadata": {},
   "outputs": [],
   "source": [
    "popular_movies.to_csv(r\"C:\\Users\\sarim\\OneDrive\\Desktop\\Project\\Trial\\Cinema\\static\\pmove.csv\")"
   ]
  },
  {
   "cell_type": "code",
   "execution_count": null,
   "id": "f18ce987",
   "metadata": {},
   "outputs": [],
   "source": []
  }
 ],
 "metadata": {
  "kernelspec": {
   "display_name": "Python 3 (ipykernel)",
   "language": "python",
   "name": "python3"
  },
  "language_info": {
   "codemirror_mode": {
    "name": "ipython",
    "version": 3
   },
   "file_extension": ".py",
   "mimetype": "text/x-python",
   "name": "python",
   "nbconvert_exporter": "python",
   "pygments_lexer": "ipython3",
   "version": "3.9.12"
  }
 },
 "nbformat": 4,
 "nbformat_minor": 5
}
